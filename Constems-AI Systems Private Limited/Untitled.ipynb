{
 "cells": [
  {
   "cell_type": "code",
   "execution_count": null,
   "id": "8da2c173",
   "metadata": {},
   "outputs": [],
   "source": [
    "import numpy as np\n",
    "import matplotlib as plt\n",
    "%matplotlib inline"
   ]
  },
  {
   "cell_type": "code",
   "execution_count": 3,
   "id": "0fa33c4e",
   "metadata": {},
   "outputs": [
    {
     "data": {
      "text/plain": [
       "array([0.2184183])"
      ]
     },
     "execution_count": 3,
     "metadata": {},
     "output_type": "execute_result"
    }
   ],
   "source": [
    "import numpy as np\n",
    "def random_number(mult = 16807, mod = (2**31)-1, seed = 123456789, size = 1):\n",
    "    U = np.zeros(size)\n",
    "    x = (seed*mult+1)%mod\n",
    "    U[0] = x/mod\n",
    "    for i in range(1,size):\n",
    "        x = (x*mult+1)%mod\n",
    "        U[i] = x/mod\n",
    "    return U\n",
    "\n"
   ]
  },
  {
   "cell_type": "code",
   "execution_count": 4,
   "id": "608e06b2",
   "metadata": {},
   "outputs": [],
   "source": [
    "def uniform_gene(low=0, high=1, seed = 123456789, size = 1):\n",
    "    return low + (high-low) * random_number(seed = seed, size = size)"
   ]
  },
  {
   "cell_type": "code",
   "execution_count": null,
   "id": "6a18f121",
   "metadata": {},
   "outputs": [],
   "source": [
    "l = uniform_gene(low = 0, high = 9, size = 10000)\n",
    "plt.hist(l, bins= 20, edgecolor = 'r')\n",
    "plt.xticks(fontsize = 15)\n",
    "plt.yticks(fontsize = 15)\n",
    "plt.xlim(1,10)\n",
    "plt.show()"
   ]
  }
 ],
 "metadata": {
  "kernelspec": {
   "display_name": "Python 3 (ipykernel)",
   "language": "python",
   "name": "python3"
  },
  "language_info": {
   "codemirror_mode": {
    "name": "ipython",
    "version": 3
   },
   "file_extension": ".py",
   "mimetype": "text/x-python",
   "name": "python",
   "nbconvert_exporter": "python",
   "pygments_lexer": "ipython3",
   "version": "3.9.6"
  }
 },
 "nbformat": 4,
 "nbformat_minor": 5
}

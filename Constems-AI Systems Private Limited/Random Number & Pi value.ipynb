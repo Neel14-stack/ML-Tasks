{
 "cells": [
  {
   "cell_type": "markdown",
   "id": "73fe289d",
   "metadata": {},
   "source": [
    "# Generating Random Number"
   ]
  },
  {
   "cell_type": "code",
   "execution_count": 1,
   "id": "b3ddef3c",
   "metadata": {},
   "outputs": [],
   "source": [
    "import numpy as np\n",
    "import matplotlib.pyplot as plt\n",
    "%matplotlib inline"
   ]
  },
  {
   "cell_type": "code",
   "execution_count": 70,
   "id": "81998934",
   "metadata": {},
   "outputs": [],
   "source": [
    "def random_number(mult = 16807, mod = (2**31)-1, seed = 123456789, size = 1):\n",
    "    U = np.zeros(size)\n",
    "    x = (seed*mult+1)%mod\n",
    "    U[0] = x/mod\n",
    "    for i in range(1,size):\n",
    "        x = (x*mult+1)%mod\n",
    "        U[i] = x/mod\n",
    "    return U\n",
    "\n"
   ]
  },
  {
   "cell_type": "code",
   "execution_count": 71,
   "id": "b4c6dd1f",
   "metadata": {},
   "outputs": [],
   "source": [
    "def uniform_gene(low=0, high=1, seed = 123456789, size = 1):\n",
    "    size = size + 1\n",
    "    return low + (high-low) * random_number(seed = seed, size = size)"
   ]
  },
  {
   "cell_type": "code",
   "execution_count": 72,
   "id": "a6dd027a",
   "metadata": {},
   "outputs": [
    {
     "data": {
      "image/png": "[encoded data removed]",
      "text/plain": [
       "<Figure size 432x288 with 1 Axes>"
      ]
     },
     "metadata": {
      "needs_background": "light"
     },
     "output_type": "display_data"
    }
   ],
   "source": [
    "l = uniform_gene(low = 0, high = 9, size = 1000)\n",
    "plt.hist(l, bins= 20, edgecolor = 'k')\n",
    "plt.xticks(fontsize = 15)\n",
    "plt.yticks(fontsize = 15)\n",
    "plt.xlim(-1,10)\n",
    "plt.show()"
   ]
  },
  {
   "cell_type": "markdown",
   "id": "2ecdef88",
   "metadata": {},
   "source": [
    "# Predicting value of Pi using "
   ]
  },
  {
   "cell_type": "code",
   "execution_count": 86,
   "id": "4d599518",
   "metadata": {},
   "outputs": [],
   "source": [
    "def random_number_x(mult = 16807, mod = (2**31)-1, seed = 12345, size = 1):\n",
    "    U = np.zeros(size)\n",
    "    x = (seed*mult+1)%mod\n",
    "    U[0] = x/mod\n",
    "    for i in range(1,size):\n",
    "        x = (x*mult+1)%mod\n",
    "        U[i] = x/mod\n",
    "    return U\n",
    "\n",
    "def uniform_gene_x(low=0, high=1, seed = 12345, size = 1):\n",
    "    size = size + 1\n",
    "    return low + (high-low) * random_number(seed = seed, size = size)"
   ]
  },
  {
   "cell_type": "code",
   "execution_count": 87,
   "id": "722edc1a",
   "metadata": {},
   "outputs": [],
   "source": [
    "def random_number_y(mult = 16807, mod = (2**31)-1, seed = 6789, size = 1):\n",
    "    U = np.zeros(size)\n",
    "    x = (seed*mult+1)%mod\n",
    "    U[0] = x/mod\n",
    "    for i in range(1,size):\n",
    "        x = (x*mult+1)%mod\n",
    "        U[i] = x/mod\n",
    "    return U\n",
    "\n",
    "def uniform_gene_y(low=0, high=1, seed = 6789, size = 1):\n",
    "    size = size + 1\n",
    "    return low + (high-low) * random_number(seed = seed, size = size)"
   ]
  },
  {
   "cell_type": "code",
   "execution_count": 93,
   "id": "d48c949a",
   "metadata": {},
   "outputs": [
    {
     "name": "stdout",
     "output_type": "stream",
     "text": [
      "3.1404\n"
     ]
    }
   ],
   "source": [
    "from math import sqrt  \n",
    "inside=0  \n",
    "n=10000\n",
    "x=uniform_gene_x(low = 0, high = 1, size = 10000)  \n",
    "y=uniform_gene_y(low = 0, high = 1, size = 10000)\n",
    "for i in range(0,n):\n",
    "    #print(x[i],y[i])\n",
    "    if sqrt(x[i]*x[i]+y[i]*y[i])<=1:  \n",
    "        inside+=1    \n",
    "pi=4*inside/n  \n",
    "print(pi)"
   ]
  }
 ],
 "metadata": {
  "kernelspec": {
   "display_name": "Python 3 (ipykernel)",
   "language": "python",
   "name": "python3"
  },
  "language_info": {
   "codemirror_mode": {
    "name": "ipython",
    "version": 3
   },
   "file_extension": ".py",
   "mimetype": "text/x-python",
   "name": "python",
   "nbconvert_exporter": "python",
   "pygments_lexer": "ipython3",
   "version": "3.9.6"
  }
 },
 "nbformat": 4,
 "nbformat_minor": 5
}
